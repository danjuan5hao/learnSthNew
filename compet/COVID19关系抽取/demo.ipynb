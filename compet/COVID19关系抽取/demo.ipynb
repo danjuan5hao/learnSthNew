{
 "cells": [
  {
   "cell_type": "code",
   "execution_count": 3,
   "metadata": {},
   "outputs": [],
   "source": [
    "# -*- coding: utf-8 -*-\n",
    "import torch \n",
    "import torch.nn as nn \n",
    "import torch.nn.functional as F\n",
    "import torch.optim as optim"
   ]
  },
  {
   "cell_type": "code",
   "execution_count": 4,
   "metadata": {},
   "outputs": [],
   "source": [
    "class Net(nn.Module):\n",
    "    def __init__(self):\n",
    "        super(Net, self).__init__()\n",
    "        self.dense = nn.Linear(5, 5, bias = False)\n",
    "        \n",
    "    def forward(self, x):\n",
    "        return self.dense(x)\n",
    "    \n",
    "model_1 = Net()"
   ]
  },
  {
   "cell_type": "code",
   "execution_count": 5,
   "metadata": {},
   "outputs": [],
   "source": [
    "class Net2(nn.Module):\n",
    "    def __init__(self):\n",
    "        super(Net2, self).__init__()\n",
    "        self.dense = nn.Linear(5, 5, bias = False)\n",
    "    def forward(self, x):\n",
    "        return F.softmax(self.dense(x), dim=1)\n",
    "    \n",
    "model_2 = Net2()"
   ]
  },
  {
   "cell_type": "code",
   "execution_count": 6,
   "metadata": {},
   "outputs": [],
   "source": [
    "input = torch.randn(3, 5, requires_grad=False)\n",
    "target = torch.empty(3, dtype=torch.long, requires_grad=False).random_(5)\n",
    "\n",
    "output_1 = model_1(input)\n",
    "output_2 = model_2(input)\n",
    "\n",
    "opt1 = optim.SGD(model_1.dense.parameters(), lr=1e-2, momentum=0.9)\n",
    "opt2 = optim.SGD(model_2.dense.parameters(), lr=1e-2, momentum=0.9)"
   ]
  },
  {
   "cell_type": "code",
   "execution_count": 12,
   "metadata": {},
   "outputs": [
    {
     "name": "stdout",
     "output_type": "stream",
     "text": [
      "tensor([[ 1.0375, -0.0336,  0.7526,  0.6596,  0.3732],\n",
      "        [ 0.1412, -0.0396,  0.4735,  0.3982,  0.3358],\n",
      "        [-0.0819,  0.0663, -0.8035, -0.3204, -1.2196]], grad_fn=<MmBackward>)\n",
      "tensor([[0.0917, 0.3010, 0.1343, 0.2884, 0.1846],\n",
      "        [0.1649, 0.1917, 0.1983, 0.2042, 0.2409],\n",
      "        [0.4207, 0.1348, 0.0790, 0.1491, 0.2165]], grad_fn=<SoftmaxBackward>)\n"
     ]
    }
   ],
   "source": [
    "print(output_1)\n",
    "print(output_2)"
   ]
  },
  {
   "cell_type": "code",
   "execution_count": 7,
   "metadata": {},
   "outputs": [
    {
     "name": "stdout",
     "output_type": "stream",
     "text": [
      "[Parameter containing:\n",
      "tensor([[-0.3371,  0.4299, -0.0146, -0.3036,  0.4022],\n",
      "        [-0.1860, -0.4125,  0.1090,  0.4241,  0.0839],\n",
      "        [-0.0121,  0.4286,  0.2200, -0.0431,  0.4337],\n",
      "        [ 0.0155,  0.4085,  0.0985, -0.2348,  0.4101],\n",
      "        [-0.0355,  0.1284,  0.3406,  0.4058,  0.1992]], requires_grad=True)]\n",
      "[tensor([[ 0.2678, -0.3733, -0.0675, -0.1795, -0.1111],\n",
      "        [-0.0167,  0.4544,  0.4439,  0.2981, -0.1051],\n",
      "        [-0.1969, -0.0228, -0.3088,  0.0049, -0.0492],\n",
      "        [-0.0346, -0.0588, -0.0700, -0.0869,  0.1567],\n",
      "        [-0.0197,  0.0005,  0.0023, -0.0365,  0.1088]])]\n"
     ]
    }
   ],
   "source": [
    "cce_1 = nn.CrossEntropyLoss()\n",
    "loss_1 = cce_1(output_1, target)\n",
    "loss_1.backward()\n",
    "\n",
    "rst_1_para = [x for x in model_1.dense.parameters()]\n",
    "print(rst_1_para)\n",
    "rst_1_grad = [x.grad for x in model_1.dense.parameters()]\n",
    "print(rst_1_grad)"
   ]
  },
  {
   "cell_type": "code",
   "execution_count": 8,
   "metadata": {},
   "outputs": [
    {
     "name": "stdout",
     "output_type": "stream",
     "text": [
      "[Parameter containing:\n",
      "tensor([[ 0.2239, -0.3458, -0.2737, -0.2028, -0.2106],\n",
      "        [-0.2157,  0.2646, -0.0907, -0.2999,  0.0392],\n",
      "        [ 0.1161,  0.0019,  0.0751,  0.0843, -0.2782],\n",
      "        [-0.2993,  0.0147,  0.0178, -0.1267,  0.1280],\n",
      "        [ 0.2837,  0.0208, -0.1794, -0.0822,  0.2439]], requires_grad=True)]\n",
      "[tensor([[ 0.0348, -0.0686, -0.0276, -0.0389, -0.0028],\n",
      "        [-0.0056,  0.0837,  0.0802,  0.0524, -0.0119],\n",
      "        [-0.0283, -0.0047, -0.0512,  0.0065, -0.0266],\n",
      "        [-0.0037,  0.0001,  0.0006, -0.0069,  0.0207],\n",
      "        [ 0.0028, -0.0104, -0.0020, -0.0130,  0.0205]])]\n"
     ]
    }
   ],
   "source": [
    "cce_2 = nn.CrossEntropyLoss()\n",
    "loss_2 = cce_2(output_2, target)\n",
    "loss_2.backward()\n",
    "\n",
    "rst_2_para = [x for x in model_2.dense.parameters()]\n",
    "print(rst_2_para)\n",
    "rst_2_grad = [x.grad for x in model_2.dense.parameters()]\n",
    "print(rst_2_grad)"
   ]
  },
  {
   "cell_type": "code",
   "execution_count": 9,
   "metadata": {},
   "outputs": [
    {
     "name": "stdout",
     "output_type": "stream",
     "text": [
      "[Parameter containing:\n",
      "tensor([[-0.3397,  0.4336, -0.0139, -0.3018,  0.4033],\n",
      "        [-0.1858, -0.4171,  0.1046,  0.4211,  0.0850],\n",
      "        [-0.0101,  0.4288,  0.2231, -0.0432,  0.4342],\n",
      "        [ 0.0158,  0.4091,  0.0992, -0.2339,  0.4086],\n",
      "        [-0.0353,  0.1284,  0.3406,  0.4061,  0.1981]], requires_grad=True)]\n"
     ]
    }
   ],
   "source": [
    "opt1.step()\n",
    "rst_1_para_after = [x for x in model_1.dense.parameters()]\n",
    "opt1.zero_grad()\n",
    "print(rst_1_para_after)"
   ]
  },
  {
   "cell_type": "code",
   "execution_count": 10,
   "metadata": {},
   "outputs": [
    {
     "name": "stdout",
     "output_type": "stream",
     "text": [
      "[Parameter containing:\n",
      "tensor([[ 0.2236, -0.3452, -0.2735, -0.2024, -0.2106],\n",
      "        [-0.2156,  0.2638, -0.0915, -0.3004,  0.0393],\n",
      "        [ 0.1164,  0.0019,  0.0756,  0.0843, -0.2779],\n",
      "        [-0.2993,  0.0147,  0.0178, -0.1266,  0.1278],\n",
      "        [ 0.2836,  0.0209, -0.1794, -0.0821,  0.2437]], requires_grad=True)]\n"
     ]
    }
   ],
   "source": [
    "opt2.step()\n",
    "rst_2_para_after = [x for x in model_2.dense.parameters()]\n",
    "opt2.zero_grad()\n",
    "print(rst_2_para_after)"
   ]
  },
  {
   "cell_type": "code",
   "execution_count": 11,
   "metadata": {},
   "outputs": [
    {
     "data": {
      "text/plain": [
       "array([[0., 0., 0., 0., 0.],\n",
       "       [0., 0., 0., 0., 0.],\n",
       "       [0., 0., 0., 0., 0.],\n",
       "       [0., 0., 0., 0., 0.],\n",
       "       [0., 0., 0., 0., 0.]], dtype=float32)"
      ]
     },
     "execution_count": 11,
     "metadata": {},
     "output_type": "execute_result"
    }
   ],
   "source": [
    "rst_1_para_after[0].detach().numpy() - rst_1_para[0].detach().numpy()"
   ]
  },
  {
   "cell_type": "code",
   "execution_count": null,
   "metadata": {},
   "outputs": [],
   "source": []
  }
 ],
 "metadata": {
  "kernelspec": {
   "display_name": "Python 3",
   "language": "python",
   "name": "python3"
  },
  "language_info": {
   "codemirror_mode": {
    "name": "ipython",
    "version": 3
   },
   "file_extension": ".py",
   "mimetype": "text/x-python",
   "name": "python",
   "nbconvert_exporter": "python",
   "pygments_lexer": "ipython3",
   "version": "3.7.9"
  }
 },
 "nbformat": 4,
 "nbformat_minor": 4
}
