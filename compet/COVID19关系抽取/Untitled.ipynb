{
 "cells": [
  {
   "cell_type": "code",
   "execution_count": 1,
   "metadata": {},
   "outputs": [],
   "source": [
    "# -*- coding: utf-8 -*-\n",
    "import torch \n",
    "import torch.nn as nn "
   ]
  },
  {
   "cell_type": "code",
   "execution_count": 12,
   "metadata": {},
   "outputs": [],
   "source": [
    "b1t1 = [1.1, 2.1, 4.1]\n",
    "b1t2 = [1.1, 2.1, 3.1]\n",
    "\n",
    "b2t1 = [0.1, 0.2, 0.4]\n",
    "b2t2 = [1.1, 2.1, 3.1]\n",
    "\n",
    "inputs = torch.tensor([[b1t1, b1t2], [b2t1, b2t2], [b2t1, b2t2]], dtype=torch.double)\n",
    "layer = nn.LSTM(3, 16, batch_first=True)\n",
    "outputs, (h_n, c_n) = layer(inputs.float())\n"
   ]
  },
  {
   "cell_type": "code",
   "execution_count": 13,
   "metadata": {},
   "outputs": [
    {
     "name": "stdout",
     "output_type": "stream",
     "text": [
      "torch.Size([3, 2, 16])\n"
     ]
    }
   ],
   "source": [
    "print(outputs.size())"
   ]
  },
  {
   "cell_type": "code",
   "execution_count": 15,
   "metadata": {},
   "outputs": [
    {
     "name": "stdout",
     "output_type": "stream",
     "text": [
      "torch.Size([20, 33, 1])\n"
     ]
    }
   ],
   "source": [
    "m = nn.Conv1d(16, 33, 50, 1)\n",
    "input = torch.randn(20, 16, 50)\n",
    "output = m(input)\n",
    "print(output.size())"
   ]
  },
  {
   "cell_type": "code",
   "execution_count": 25,
   "metadata": {},
   "outputs": [],
   "source": [
    "decoder_hidden_dim = 256\n",
    "decoder_input_dim = 100\n",
    "batch_size = 6\n",
    "c_0 = torch.zeros(batch_size, decoder_hidden_dim)\n",
    "h_0 = torch.zeros(batch_size, decoder_hidden_dim)\n",
    "\n",
    "n = nn.LSTMCell(decoder_input_dim, decoder_hidden_dim)"
   ]
  },
  {
   "cell_type": "code",
   "execution_count": 26,
   "metadata": {},
   "outputs": [],
   "source": [
    "input_1 = torch.randn(batch_size,decoder_input_dim)"
   ]
  },
  {
   "cell_type": "code",
   "execution_count": 29,
   "metadata": {},
   "outputs": [
    {
     "data": {
      "text/plain": [
       "torch.Size([6, 256])"
      ]
     },
     "execution_count": 29,
     "metadata": {},
     "output_type": "execute_result"
    }
   ],
   "source": [
    "n(input_1, (c_0, h_0))[1].size()"
   ]
  },
  {
   "cell_type": "code",
   "execution_count": null,
   "metadata": {},
   "outputs": [],
   "source": []
  }
 ],
 "metadata": {
  "kernelspec": {
   "display_name": "Python 3",
   "language": "python",
   "name": "python3"
  },
  "language_info": {
   "codemirror_mode": {
    "name": "ipython",
    "version": 3
   },
   "file_extension": ".py",
   "mimetype": "text/x-python",
   "name": "python",
   "nbconvert_exporter": "python",
   "pygments_lexer": "ipython3",
   "version": "3.7.9"
  }
 },
 "nbformat": 4,
 "nbformat_minor": 4
}
